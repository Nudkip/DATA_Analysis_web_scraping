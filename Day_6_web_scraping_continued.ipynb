{
  "nbformat": 4,
  "nbformat_minor": 0,
  "metadata": {
    "colab": {
      "provenance": [],
      "include_colab_link": true
    },
    "kernelspec": {
      "name": "python3",
      "display_name": "Python 3"
    },
    "language_info": {
      "name": "python"
    }
  },
  "cells": [
    {
      "cell_type": "markdown",
      "metadata": {
        "id": "view-in-github",
        "colab_type": "text"
      },
      "source": [
        "<a href=\"https://colab.research.google.com/github/Nudkip/DATA_Analysis_web_scraping/blob/main/Day_6_web_scraping_continued.ipynb\" target=\"_parent\"><img src=\"https://colab.research.google.com/assets/colab-badge.svg\" alt=\"Open In Colab\"/></a>"
      ]
    },
    {
      "cell_type": "code",
      "source": [
        "pip install requests beautifulsoup4 requests-html\n"
      ],
      "metadata": {
        "colab": {
          "base_uri": "https://localhost:8080/"
        },
        "id": "oSm_C9x_4T4Z",
        "outputId": "0f1a7ff3-0102-4ba8-88aa-3d9871283b73"
      },
      "execution_count": null,
      "outputs": [
        {
          "output_type": "stream",
          "name": "stdout",
          "text": [
            "Requirement already satisfied: requests in /usr/local/lib/python3.10/dist-packages (2.27.1)\n",
            "Requirement already satisfied: beautifulsoup4 in /usr/local/lib/python3.10/dist-packages (4.11.2)\n",
            "Collecting requests-html\n",
            "  Downloading requests_html-0.10.0-py3-none-any.whl (13 kB)\n",
            "Requirement already satisfied: urllib3<1.27,>=1.21.1 in /usr/local/lib/python3.10/dist-packages (from requests) (1.26.16)\n",
            "Requirement already satisfied: certifi>=2017.4.17 in /usr/local/lib/python3.10/dist-packages (from requests) (2023.5.7)\n",
            "Requirement already satisfied: charset-normalizer~=2.0.0 in /usr/local/lib/python3.10/dist-packages (from requests) (2.0.12)\n",
            "Requirement already satisfied: idna<4,>=2.5 in /usr/local/lib/python3.10/dist-packages (from requests) (3.4)\n",
            "Requirement already satisfied: soupsieve>1.2 in /usr/local/lib/python3.10/dist-packages (from beautifulsoup4) (2.4.1)\n",
            "Collecting pyquery (from requests-html)\n",
            "  Downloading pyquery-2.0.0-py3-none-any.whl (22 kB)\n",
            "Collecting fake-useragent (from requests-html)\n",
            "  Downloading fake_useragent-1.1.3-py3-none-any.whl (50 kB)\n",
            "\u001b[2K     \u001b[90m━━━━━━━━━━━━━━━━━━━━━━━━━━━━━━━━━━━━━━━━\u001b[0m \u001b[32m50.5/50.5 kB\u001b[0m \u001b[31m4.0 MB/s\u001b[0m eta \u001b[36m0:00:00\u001b[0m\n",
            "\u001b[?25hCollecting parse (from requests-html)\n",
            "  Downloading parse-1.19.1-py2.py3-none-any.whl (18 kB)\n",
            "Collecting bs4 (from requests-html)\n",
            "  Downloading bs4-0.0.1.tar.gz (1.1 kB)\n",
            "  Preparing metadata (setup.py) ... \u001b[?25l\u001b[?25hdone\n",
            "Collecting w3lib (from requests-html)\n",
            "  Downloading w3lib-2.1.1-py3-none-any.whl (21 kB)\n",
            "Collecting pyppeteer>=0.0.14 (from requests-html)\n",
            "  Downloading pyppeteer-1.0.2-py3-none-any.whl (83 kB)\n",
            "\u001b[2K     \u001b[90m━━━━━━━━━━━━━━━━━━━━━━━━━━━━━━━━━━━━━━━━\u001b[0m \u001b[32m83.4/83.4 kB\u001b[0m \u001b[31m9.3 MB/s\u001b[0m eta \u001b[36m0:00:00\u001b[0m\n",
            "\u001b[?25hRequirement already satisfied: appdirs<2.0.0,>=1.4.3 in /usr/local/lib/python3.10/dist-packages (from pyppeteer>=0.0.14->requests-html) (1.4.4)\n",
            "Collecting importlib-metadata>=1.4 (from pyppeteer>=0.0.14->requests-html)\n",
            "  Downloading importlib_metadata-6.8.0-py3-none-any.whl (22 kB)\n",
            "Collecting pyee<9.0.0,>=8.1.0 (from pyppeteer>=0.0.14->requests-html)\n",
            "  Downloading pyee-8.2.2-py2.py3-none-any.whl (12 kB)\n",
            "Requirement already satisfied: tqdm<5.0.0,>=4.42.1 in /usr/local/lib/python3.10/dist-packages (from pyppeteer>=0.0.14->requests-html) (4.65.0)\n",
            "Collecting websockets<11.0,>=10.0 (from pyppeteer>=0.0.14->requests-html)\n",
            "  Downloading websockets-10.4-cp310-cp310-manylinux_2_5_x86_64.manylinux1_x86_64.manylinux_2_17_x86_64.manylinux2014_x86_64.whl (106 kB)\n",
            "\u001b[2K     \u001b[90m━━━━━━━━━━━━━━━━━━━━━━━━━━━━━━━━━━━━━━━\u001b[0m \u001b[32m106.8/106.8 kB\u001b[0m \u001b[31m5.2 MB/s\u001b[0m eta \u001b[36m0:00:00\u001b[0m\n",
            "\u001b[?25hRequirement already satisfied: lxml>=2.1 in /usr/local/lib/python3.10/dist-packages (from pyquery->requests-html) (4.9.3)\n",
            "Collecting cssselect>=1.2.0 (from pyquery->requests-html)\n",
            "  Downloading cssselect-1.2.0-py2.py3-none-any.whl (18 kB)\n",
            "Requirement already satisfied: zipp>=0.5 in /usr/local/lib/python3.10/dist-packages (from importlib-metadata>=1.4->pyppeteer>=0.0.14->requests-html) (3.16.0)\n",
            "Building wheels for collected packages: bs4\n",
            "  Building wheel for bs4 (setup.py) ... \u001b[?25l\u001b[?25hdone\n",
            "  Created wheel for bs4: filename=bs4-0.0.1-py3-none-any.whl size=1257 sha256=aee6d4edb7589e9cb562b0a616cf9bb3ee4476998a9519ce1f9dc7b7160e729f\n",
            "  Stored in directory: /root/.cache/pip/wheels/25/42/45/b773edc52acb16cd2db4cf1a0b47117e2f69bb4eb300ed0e70\n",
            "Successfully built bs4\n",
            "Installing collected packages: pyee, parse, fake-useragent, websockets, w3lib, importlib-metadata, cssselect, pyquery, pyppeteer, bs4, requests-html\n",
            "Successfully installed bs4-0.0.1 cssselect-1.2.0 fake-useragent-1.1.3 importlib-metadata-6.8.0 parse-1.19.1 pyee-8.2.2 pyppeteer-1.0.2 pyquery-2.0.0 requests-html-0.10.0 w3lib-2.1.1 websockets-10.4\n"
          ]
        }
      ]
    },
    {
      "cell_type": "markdown",
      "source": [
        "requests-html is not automatically installed in google colab. Hence the installation up above using pip. We will also find that Tensor Flow and some other noteworth libraries are not installed. so you will need to use pip when using the co-lab for some libraries.\n",
        "Next we import some libraries we may need although we didn't end up using nltk today  "
      ],
      "metadata": {
        "id": "hDuNnKugzI9V"
      }
    },
    {
      "cell_type": "code",
      "source": [
        "import pandas as pd\n",
        "from urllib.parse import urlparse\n",
        "import numpy as np\n",
        "import nltk.data\n",
        "from requests_html import HTMLSession"
      ],
      "metadata": {
        "id": "Puu87wGS4T69"
      },
      "execution_count": null,
      "outputs": []
    },
    {
      "cell_type": "markdown",
      "source": [
        "Below we define a function that we didn't end up using today. This one just takes a single URL as input and returns the main text. You may find this one or the next one more useful for scraping some pages. Additionally it will help to always be defining new functions for web-scraping."
      ],
      "metadata": {
        "id": "VHzaNMrE0aZA"
      }
    },
    {
      "cell_type": "code",
      "source": [
        "def get_and_parse(url):\n",
        "  response = requests.get(url)\n",
        "\n",
        "# Parse the HTML content with Beautiful Soup\n",
        "  soup = BeautifulSoup(response.content, 'html.parser')\n",
        "\n",
        "# Remove unwanted elements (script, style, comments, etc.)\n",
        "  for element in soup(['script', 'style', 'comment']):\n",
        "      element.extract()\n",
        "\n",
        "# Extract the visible text\n",
        "  text = soup.get_text(separator=' ')\n",
        "  return text"
      ],
      "metadata": {
        "id": "bWvbRN5P4T9W"
      },
      "execution_count": null,
      "outputs": []
    },
    {
      "cell_type": "markdown",
      "source": [
        "This next function takes two inputs: url and element. In this case you can specify which element you want to scrape. Be it an 'a' [anchor] element, a 'p' [paragraph] element, and so on. What it returns should be a list of all such elements on the page including all the elements and attributes that they contain. From each extracted element we can obtain the attributes and elements that it contains and store those in an object."
      ],
      "metadata": {
        "id": "tLHMh8UT1L_E"
      }
    },
    {
      "cell_type": "code",
      "source": [
        "def parse_elements(url,element):\n",
        "    session = HTMLSession()\n",
        "    r = session.get(url)\n",
        "    elements = r.html.find(element)\n",
        "    return elements"
      ],
      "metadata": {
        "id": "gHPy-i2R4T_h"
      },
      "execution_count": null,
      "outputs": []
    },
    {
      "cell_type": "markdown",
      "source": [
        "Next our good old sentiment detection that uses some comprehensions and optimized if/else logic to return the right sentiment. Note this is a rules based approach that flags sentiment soley based on whether or not key words have been found."
      ],
      "metadata": {
        "id": "jzq03Gb_2So3"
      }
    },
    {
      "cell_type": "code",
      "source": [
        "def sentiment_detection(sentence):\n",
        "    positive_words = ('happy', 'sunny', 'positive', 'triumphant', 'optimistic', 'wonderful', 'significant', 'achieve','capabilities','progress','prized')\n",
        "    negative_words = ('sad', 'terrible', 'frightening', 'rainy', 'scary', 'shocked', 'critical','bottlenecked')\n",
        "\n",
        "    positive = any(sentence.count(i) > 0 for i in positive_words)\n",
        "    negative = any(sentence.count(i) > 0 for i in negative_words)\n",
        "\n",
        "    if positive == negative == False:\n",
        "        return \"neutral\"\n",
        "    elif positive != negative:\n",
        "        return \"positive\" if positive else \"negative\"\n",
        "    else:\n",
        "        return \"mixed\""
      ],
      "metadata": {
        "id": "7s2rCExy4UBw"
      },
      "execution_count": null,
      "outputs": []
    },
    {
      "cell_type": "markdown",
      "source": [
        "We can re-purpose this approach for topic detection as seen with the next function."
      ],
      "metadata": {
        "id": "0eb5UNQy2-6R"
      }
    },
    {
      "cell_type": "code",
      "source": [
        "def topic_detection(sentence):\n",
        "    DataScience_words = ('data science', 'regression', 'predict', 'predictive', 'classify')\n",
        "    AI_words = ('AI', 'machine learning', 'ml', 'ML', 'NLP', 'LLM','deep learning','neural network','generative', 'GPT-3')\n",
        "    DataWords = ('analysis', 'algorithms','data','data structure','data-structure','big data')\n",
        "    DataScience = any(sentence.count(i) > 0 for i in DataScience_words)\n",
        "    AI = any(sentence.count(i) > 0 for i in AI_words)\n",
        "    data = any(sentence.count(i) > 0 for i in DataWords)\n",
        "    topics = []\n",
        "    if DataScience == True:\n",
        "        topics.append(\"Data Science\")\n",
        "    if AI == True:\n",
        "        topics.append(\"AI\")\n",
        "    if data == True:\n",
        "        topics.append(\"data\")\n",
        "    return topics"
      ],
      "metadata": {
        "id": "PDiuICUe4UD4"
      },
      "execution_count": null,
      "outputs": []
    },
    {
      "cell_type": "markdown",
      "source": [
        "Below we parse the paragraph elements and anchor elements from this article"
      ],
      "metadata": {
        "id": "R19_XJPx64Gv"
      }
    },
    {
      "cell_type": "code",
      "source": [
        "url = 'https://medium.com/towards-data-science/ai-scaling-why-keeping-up-is-essential-and-how-to-do-it-56be3c2e1e5'\n",
        "paragraphs = parse_elements(url, 'p')\n",
        "links = parse_elements(url, 'a')"
      ],
      "metadata": {
        "id": "UvVfQFeE6pyt"
      },
      "execution_count": null,
      "outputs": []
    },
    {
      "cell_type": "code",
      "source": [
        "\n",
        "#requirements: print out a topic analysis after every paragraph prints out\n",
        "#dictionary that has two lists, one for the paragraphs, and one for topics covered by those paragraphs\n",
        "#print(paragraphs)\n",
        "p_dictionary = {}\n",
        "p_list = []\n",
        "topic_list = []\n",
        "for p in range(0, len(paragraphs)):\n",
        "    if len(paragraphs[p].text) > 50:\n",
        "      #print((paragraphs[p].text))\n",
        "      #print(f\"TALKS ABOUT: {topic_detection(paragraphs[p].text)}\")\n",
        "      p_list.append(paragraphs[p].text)\n",
        "      topic_list.append(topic_detection(paragraphs[p].text))\n",
        "p_dictionary['Paragraphs'] = p_list\n",
        "p_dictionary['Topics'] = topic_list"
      ],
      "metadata": {
        "id": "Z_7p6IeA4UF9"
      },
      "execution_count": null,
      "outputs": []
    },
    {
      "cell_type": "code",
      "source": [
        "p_dictionary"
      ],
      "metadata": {
        "id": "9wffM6HYV8h1",
        "colab": {
          "base_uri": "https://localhost:8080/"
        },
        "outputId": "05fa0c39-0e75-4332-a205-b6afc7aee5c1"
      },
      "execution_count": null,
      "outputs": [
        {
          "output_type": "execute_result",
          "data": {
            "text/plain": [
              "{'Paragraphs': ['GPT-3 came out in early 2020, and shocked the world.',\n",
              "  'For the first time, we had an AI system that could write text so humanlike that readers consistently couldn’t tell that it was AI-generated. But more than that, GPT-3 could also translate between languages, write code, answer questions, and much more.',\n",
              "  'And it did all thing thanks simply to its scale. GPT-3 was a much larger model, featuring more parameters than any transformer ever developed before. And it was trained using an appropriately massive amount of processing power, and a huge dataset which amounted to essentially all the text on the internet at the time.',\n",
              "  'The idea that simply by scaling a simple transformer architecture — an architecture which had by then already been around for three years! — we could achieve a significant level of general intelligence and human-like text generation capability came as a shock to just about everyone. But it had enormous consequences: by building GPT-3 and announcing it to the world in such a public fashion, OpenAI drew the world’s attention to the AI scaling phenomenon.',\n",
              "  'Since then, dozens of other companies have put forward their own superscaled AI models with increasingly astonishing capabilities. Google AI, DeepMind, Mircosoft, NVIDIA, Cohere, AI21Labs, and many more Western groups have entered the fray. And Chinese labs at Huawei, Inspur, the Beijing Academy of AI, and Tsinghua University have been close to the frontier of AI scaling, too — despite export controls that make it harder for them to get their hands on the processing power that’s so critical to scaling AI.',\n",
              "  'The one-fringe AI scaling strategy that OpenAI first doubled down on in 2020 is now becoming the de facto consensus approach by world-leading labs everywhere. And although the specific recipe OpenAI proposed with GPT-3 has since been shown to be sub-optimal (as DeepMind’s Chinchilla showed), the fact remains: we now have a reliable way of pumping in more scale — more data, more processing power, and larger models — and getting more intelligence and more capabilities out of our AI systems.',\n",
              "  'And there’s no end in sight: as the dizzying pace of AI progress in the last few months has shown, scaling just seems to keep paying dividends. Google’s Minerva model can solve undergraduate-level math problems. DeepMind’s Flamingo — and many other scaled multi-modal models since — are showing that scaling makes it possible for AI to process and output text, image, video, and other data shockingly well. Once the stuff of scifi fantasy, text-to-image, text-to-video, and really, text-to-anything models are now mundane everyday realities.',\n",
              "  'Missing out on just one of these developments can lead to critical blind spots. Here are some that we discuss in this first episode of the Gladstone AI podcast:',\n",
              "  'Keeping up with the current state of the art in AI is becoming a must — not just for data scientists, data analysts, MLEs, and so on, but also for entirely nontechnical people who, like the rest of us, are directly impacted by the state of cutting-edge AI in a way we’ve never been before.',\n",
              "  'This immediately implies that one of the most valuable skills of the coming AI era will be the ability to translate new technical developments into nontechnical language. As progress in AI accelerates, the gap between actual AI and perceived AI capabilities will get larger, and an organization’s ability to compete will become bottlenecked by the rate at which it can recognize and leverage the latest AI tooling. People who can live at the boundary between the technical world of AI scaling and the nontechnical world of business strategy are going to become some of the most prized assets in every organization.',\n",
              "  'In future episodes, we’ll look at these big “what now” questions in more detail, in the context of more recent advances in AI.',\n",
              "  'Co-founder of Gladstone AI 🤖 an AI safety company. Author of Quantum Mechanics Made Me Do It (preorder: shorturl.at/jtMN0).'],\n",
              " 'Topics': [['AI'],\n",
              "  ['AI'],\n",
              "  ['AI', 'data'],\n",
              "  ['AI'],\n",
              "  ['AI'],\n",
              "  ['AI', 'data'],\n",
              "  ['AI', 'data'],\n",
              "  ['AI'],\n",
              "  ['AI', 'data'],\n",
              "  ['AI'],\n",
              "  ['AI'],\n",
              "  ['AI']]}"
            ]
          },
          "metadata": {},
          "execution_count": 9
        }
      ]
    },
    {
      "cell_type": "code",
      "source": [
        "medium_df = pd.DataFrame(p_dictionary)"
      ],
      "metadata": {
        "id": "p3qSEdOqVPJJ"
      },
      "execution_count": null,
      "outputs": []
    },
    {
      "cell_type": "code",
      "source": [
        "medium_df.head(9)"
      ],
      "metadata": {
        "colab": {
          "base_uri": "https://localhost:8080/",
          "height": 331
        },
        "id": "1WD47pZ7VPWf",
        "outputId": "7183c4e8-1015-4b1a-d278-c52e85ca04a7"
      },
      "execution_count": null,
      "outputs": [
        {
          "output_type": "execute_result",
          "data": {
            "text/plain": [
              "                                          Paragraphs      Topics\n",
              "0  GPT-3 came out in early 2020, and shocked the ...        [AI]\n",
              "1  For the first time, we had an AI system that c...        [AI]\n",
              "2  And it did all thing thanks simply to its scal...  [AI, data]\n",
              "3  The idea that simply by scaling a simple trans...        [AI]\n",
              "4  Since then, dozens of other companies have put...        [AI]\n",
              "5  The one-fringe AI scaling strategy that OpenAI...  [AI, data]\n",
              "6  And there’s no end in sight: as the dizzying p...  [AI, data]\n",
              "7  Missing out on just one of these developments ...        [AI]\n",
              "8  Keeping up with the current state of the art i...  [AI, data]"
            ],
            "text/html": [
              "\n",
              "\n",
              "  <div id=\"df-639e0c08-bfa1-488b-8e76-137710e295ae\">\n",
              "    <div class=\"colab-df-container\">\n",
              "      <div>\n",
              "<style scoped>\n",
              "    .dataframe tbody tr th:only-of-type {\n",
              "        vertical-align: middle;\n",
              "    }\n",
              "\n",
              "    .dataframe tbody tr th {\n",
              "        vertical-align: top;\n",
              "    }\n",
              "\n",
              "    .dataframe thead th {\n",
              "        text-align: right;\n",
              "    }\n",
              "</style>\n",
              "<table border=\"1\" class=\"dataframe\">\n",
              "  <thead>\n",
              "    <tr style=\"text-align: right;\">\n",
              "      <th></th>\n",
              "      <th>Paragraphs</th>\n",
              "      <th>Topics</th>\n",
              "    </tr>\n",
              "  </thead>\n",
              "  <tbody>\n",
              "    <tr>\n",
              "      <th>0</th>\n",
              "      <td>GPT-3 came out in early 2020, and shocked the ...</td>\n",
              "      <td>[AI]</td>\n",
              "    </tr>\n",
              "    <tr>\n",
              "      <th>1</th>\n",
              "      <td>For the first time, we had an AI system that c...</td>\n",
              "      <td>[AI]</td>\n",
              "    </tr>\n",
              "    <tr>\n",
              "      <th>2</th>\n",
              "      <td>And it did all thing thanks simply to its scal...</td>\n",
              "      <td>[AI, data]</td>\n",
              "    </tr>\n",
              "    <tr>\n",
              "      <th>3</th>\n",
              "      <td>The idea that simply by scaling a simple trans...</td>\n",
              "      <td>[AI]</td>\n",
              "    </tr>\n",
              "    <tr>\n",
              "      <th>4</th>\n",
              "      <td>Since then, dozens of other companies have put...</td>\n",
              "      <td>[AI]</td>\n",
              "    </tr>\n",
              "    <tr>\n",
              "      <th>5</th>\n",
              "      <td>The one-fringe AI scaling strategy that OpenAI...</td>\n",
              "      <td>[AI, data]</td>\n",
              "    </tr>\n",
              "    <tr>\n",
              "      <th>6</th>\n",
              "      <td>And there’s no end in sight: as the dizzying p...</td>\n",
              "      <td>[AI, data]</td>\n",
              "    </tr>\n",
              "    <tr>\n",
              "      <th>7</th>\n",
              "      <td>Missing out on just one of these developments ...</td>\n",
              "      <td>[AI]</td>\n",
              "    </tr>\n",
              "    <tr>\n",
              "      <th>8</th>\n",
              "      <td>Keeping up with the current state of the art i...</td>\n",
              "      <td>[AI, data]</td>\n",
              "    </tr>\n",
              "  </tbody>\n",
              "</table>\n",
              "</div>\n",
              "      <button class=\"colab-df-convert\" onclick=\"convertToInteractive('df-639e0c08-bfa1-488b-8e76-137710e295ae')\"\n",
              "              title=\"Convert this dataframe to an interactive table.\"\n",
              "              style=\"display:none;\">\n",
              "\n",
              "  <svg xmlns=\"http://www.w3.org/2000/svg\" height=\"24px\"viewBox=\"0 0 24 24\"\n",
              "       width=\"24px\">\n",
              "    <path d=\"M0 0h24v24H0V0z\" fill=\"none\"/>\n",
              "    <path d=\"M18.56 5.44l.94 2.06.94-2.06 2.06-.94-2.06-.94-.94-2.06-.94 2.06-2.06.94zm-11 1L8.5 8.5l.94-2.06 2.06-.94-2.06-.94L8.5 2.5l-.94 2.06-2.06.94zm10 10l.94 2.06.94-2.06 2.06-.94-2.06-.94-.94-2.06-.94 2.06-2.06.94z\"/><path d=\"M17.41 7.96l-1.37-1.37c-.4-.4-.92-.59-1.43-.59-.52 0-1.04.2-1.43.59L10.3 9.45l-7.72 7.72c-.78.78-.78 2.05 0 2.83L4 21.41c.39.39.9.59 1.41.59.51 0 1.02-.2 1.41-.59l7.78-7.78 2.81-2.81c.8-.78.8-2.07 0-2.86zM5.41 20L4 18.59l7.72-7.72 1.47 1.35L5.41 20z\"/>\n",
              "  </svg>\n",
              "      </button>\n",
              "\n",
              "\n",
              "\n",
              "    <div id=\"df-d086eae8-d6ca-4ef6-aa98-59c6638c1879\">\n",
              "      <button class=\"colab-df-quickchart\" onclick=\"quickchart('df-d086eae8-d6ca-4ef6-aa98-59c6638c1879')\"\n",
              "              title=\"Suggest charts.\"\n",
              "              style=\"display:none;\">\n",
              "\n",
              "<svg xmlns=\"http://www.w3.org/2000/svg\" height=\"24px\"viewBox=\"0 0 24 24\"\n",
              "     width=\"24px\">\n",
              "    <g>\n",
              "        <path d=\"M19 3H5c-1.1 0-2 .9-2 2v14c0 1.1.9 2 2 2h14c1.1 0 2-.9 2-2V5c0-1.1-.9-2-2-2zM9 17H7v-7h2v7zm4 0h-2V7h2v10zm4 0h-2v-4h2v4z\"/>\n",
              "    </g>\n",
              "</svg>\n",
              "      </button>\n",
              "    </div>\n",
              "\n",
              "<style>\n",
              "  .colab-df-quickchart {\n",
              "    background-color: #E8F0FE;\n",
              "    border: none;\n",
              "    border-radius: 50%;\n",
              "    cursor: pointer;\n",
              "    display: none;\n",
              "    fill: #1967D2;\n",
              "    height: 32px;\n",
              "    padding: 0 0 0 0;\n",
              "    width: 32px;\n",
              "  }\n",
              "\n",
              "  .colab-df-quickchart:hover {\n",
              "    background-color: #E2EBFA;\n",
              "    box-shadow: 0px 1px 2px rgba(60, 64, 67, 0.3), 0px 1px 3px 1px rgba(60, 64, 67, 0.15);\n",
              "    fill: #174EA6;\n",
              "  }\n",
              "\n",
              "  [theme=dark] .colab-df-quickchart {\n",
              "    background-color: #3B4455;\n",
              "    fill: #D2E3FC;\n",
              "  }\n",
              "\n",
              "  [theme=dark] .colab-df-quickchart:hover {\n",
              "    background-color: #434B5C;\n",
              "    box-shadow: 0px 1px 3px 1px rgba(0, 0, 0, 0.15);\n",
              "    filter: drop-shadow(0px 1px 2px rgba(0, 0, 0, 0.3));\n",
              "    fill: #FFFFFF;\n",
              "  }\n",
              "</style>\n",
              "\n",
              "    <script>\n",
              "      async function quickchart(key) {\n",
              "        const containerElement = document.querySelector('#' + key);\n",
              "        const charts = await google.colab.kernel.invokeFunction(\n",
              "            'suggestCharts', [key], {});\n",
              "      }\n",
              "    </script>\n",
              "\n",
              "      <script>\n",
              "\n",
              "function displayQuickchartButton(domScope) {\n",
              "  let quickchartButtonEl =\n",
              "    domScope.querySelector('#df-d086eae8-d6ca-4ef6-aa98-59c6638c1879 button.colab-df-quickchart');\n",
              "  quickchartButtonEl.style.display =\n",
              "    google.colab.kernel.accessAllowed ? 'block' : 'none';\n",
              "}\n",
              "\n",
              "        displayQuickchartButton(document);\n",
              "      </script>\n",
              "      <style>\n",
              "    .colab-df-container {\n",
              "      display:flex;\n",
              "      flex-wrap:wrap;\n",
              "      gap: 12px;\n",
              "    }\n",
              "\n",
              "    .colab-df-convert {\n",
              "      background-color: #E8F0FE;\n",
              "      border: none;\n",
              "      border-radius: 50%;\n",
              "      cursor: pointer;\n",
              "      display: none;\n",
              "      fill: #1967D2;\n",
              "      height: 32px;\n",
              "      padding: 0 0 0 0;\n",
              "      width: 32px;\n",
              "    }\n",
              "\n",
              "    .colab-df-convert:hover {\n",
              "      background-color: #E2EBFA;\n",
              "      box-shadow: 0px 1px 2px rgba(60, 64, 67, 0.3), 0px 1px 3px 1px rgba(60, 64, 67, 0.15);\n",
              "      fill: #174EA6;\n",
              "    }\n",
              "\n",
              "    [theme=dark] .colab-df-convert {\n",
              "      background-color: #3B4455;\n",
              "      fill: #D2E3FC;\n",
              "    }\n",
              "\n",
              "    [theme=dark] .colab-df-convert:hover {\n",
              "      background-color: #434B5C;\n",
              "      box-shadow: 0px 1px 3px 1px rgba(0, 0, 0, 0.15);\n",
              "      filter: drop-shadow(0px 1px 2px rgba(0, 0, 0, 0.3));\n",
              "      fill: #FFFFFF;\n",
              "    }\n",
              "  </style>\n",
              "\n",
              "      <script>\n",
              "        const buttonEl =\n",
              "          document.querySelector('#df-639e0c08-bfa1-488b-8e76-137710e295ae button.colab-df-convert');\n",
              "        buttonEl.style.display =\n",
              "          google.colab.kernel.accessAllowed ? 'block' : 'none';\n",
              "\n",
              "        async function convertToInteractive(key) {\n",
              "          const element = document.querySelector('#df-639e0c08-bfa1-488b-8e76-137710e295ae');\n",
              "          const dataTable =\n",
              "            await google.colab.kernel.invokeFunction('convertToInteractive',\n",
              "                                                     [key], {});\n",
              "          if (!dataTable) return;\n",
              "\n",
              "          const docLinkHtml = 'Like what you see? Visit the ' +\n",
              "            '<a target=\"_blank\" href=https://colab.research.google.com/notebooks/data_table.ipynb>data table notebook</a>'\n",
              "            + ' to learn more about interactive tables.';\n",
              "          element.innerHTML = '';\n",
              "          dataTable['output_type'] = 'display_data';\n",
              "          await google.colab.output.renderOutput(dataTable, element);\n",
              "          const docLink = document.createElement('div');\n",
              "          docLink.innerHTML = docLinkHtml;\n",
              "          element.appendChild(docLink);\n",
              "        }\n",
              "      </script>\n",
              "    </div>\n",
              "  </div>\n"
            ]
          },
          "metadata": {},
          "execution_count": 11
        }
      ]
    },
    {
      "cell_type": "code",
      "source": [
        "medium_df['Character Count'] = medium_df['Paragraphs'].apply(lambda x: len(x))\n"
      ],
      "metadata": {
        "id": "eU96iA1KVPgj"
      },
      "execution_count": null,
      "outputs": []
    },
    {
      "cell_type": "code",
      "source": [
        "medium_df.head(10)"
      ],
      "metadata": {
        "colab": {
          "base_uri": "https://localhost:8080/",
          "height": 363
        },
        "id": "DSWqRSumVPqq",
        "outputId": "c6e66076-7aba-4a73-d621-0bb628516396"
      },
      "execution_count": null,
      "outputs": [
        {
          "output_type": "execute_result",
          "data": {
            "text/plain": [
              "                                          Paragraphs      Topics  \\\n",
              "0  GPT-3 came out in early 2020, and shocked the ...        [AI]   \n",
              "1  For the first time, we had an AI system that c...        [AI]   \n",
              "2  And it did all thing thanks simply to its scal...  [AI, data]   \n",
              "3  The idea that simply by scaling a simple trans...        [AI]   \n",
              "4  Since then, dozens of other companies have put...        [AI]   \n",
              "5  The one-fringe AI scaling strategy that OpenAI...  [AI, data]   \n",
              "6  And there’s no end in sight: as the dizzying p...  [AI, data]   \n",
              "7  Missing out on just one of these developments ...        [AI]   \n",
              "8  Keeping up with the current state of the art i...  [AI, data]   \n",
              "9  This immediately implies that one of the most ...        [AI]   \n",
              "\n",
              "   Character Count  \n",
              "0               52  \n",
              "1              251  \n",
              "2              318  \n",
              "3              456  \n",
              "4              510  \n",
              "5              493  \n",
              "6              541  \n",
              "7              160  \n",
              "8              289  \n",
              "9              614  "
            ],
            "text/html": [
              "\n",
              "\n",
              "  <div id=\"df-cfc8064a-dfc9-4d46-9327-1fb7c47acd11\">\n",
              "    <div class=\"colab-df-container\">\n",
              "      <div>\n",
              "<style scoped>\n",
              "    .dataframe tbody tr th:only-of-type {\n",
              "        vertical-align: middle;\n",
              "    }\n",
              "\n",
              "    .dataframe tbody tr th {\n",
              "        vertical-align: top;\n",
              "    }\n",
              "\n",
              "    .dataframe thead th {\n",
              "        text-align: right;\n",
              "    }\n",
              "</style>\n",
              "<table border=\"1\" class=\"dataframe\">\n",
              "  <thead>\n",
              "    <tr style=\"text-align: right;\">\n",
              "      <th></th>\n",
              "      <th>Paragraphs</th>\n",
              "      <th>Topics</th>\n",
              "      <th>Character Count</th>\n",
              "    </tr>\n",
              "  </thead>\n",
              "  <tbody>\n",
              "    <tr>\n",
              "      <th>0</th>\n",
              "      <td>GPT-3 came out in early 2020, and shocked the ...</td>\n",
              "      <td>[AI]</td>\n",
              "      <td>52</td>\n",
              "    </tr>\n",
              "    <tr>\n",
              "      <th>1</th>\n",
              "      <td>For the first time, we had an AI system that c...</td>\n",
              "      <td>[AI]</td>\n",
              "      <td>251</td>\n",
              "    </tr>\n",
              "    <tr>\n",
              "      <th>2</th>\n",
              "      <td>And it did all thing thanks simply to its scal...</td>\n",
              "      <td>[AI, data]</td>\n",
              "      <td>318</td>\n",
              "    </tr>\n",
              "    <tr>\n",
              "      <th>3</th>\n",
              "      <td>The idea that simply by scaling a simple trans...</td>\n",
              "      <td>[AI]</td>\n",
              "      <td>456</td>\n",
              "    </tr>\n",
              "    <tr>\n",
              "      <th>4</th>\n",
              "      <td>Since then, dozens of other companies have put...</td>\n",
              "      <td>[AI]</td>\n",
              "      <td>510</td>\n",
              "    </tr>\n",
              "    <tr>\n",
              "      <th>5</th>\n",
              "      <td>The one-fringe AI scaling strategy that OpenAI...</td>\n",
              "      <td>[AI, data]</td>\n",
              "      <td>493</td>\n",
              "    </tr>\n",
              "    <tr>\n",
              "      <th>6</th>\n",
              "      <td>And there’s no end in sight: as the dizzying p...</td>\n",
              "      <td>[AI, data]</td>\n",
              "      <td>541</td>\n",
              "    </tr>\n",
              "    <tr>\n",
              "      <th>7</th>\n",
              "      <td>Missing out on just one of these developments ...</td>\n",
              "      <td>[AI]</td>\n",
              "      <td>160</td>\n",
              "    </tr>\n",
              "    <tr>\n",
              "      <th>8</th>\n",
              "      <td>Keeping up with the current state of the art i...</td>\n",
              "      <td>[AI, data]</td>\n",
              "      <td>289</td>\n",
              "    </tr>\n",
              "    <tr>\n",
              "      <th>9</th>\n",
              "      <td>This immediately implies that one of the most ...</td>\n",
              "      <td>[AI]</td>\n",
              "      <td>614</td>\n",
              "    </tr>\n",
              "  </tbody>\n",
              "</table>\n",
              "</div>\n",
              "      <button class=\"colab-df-convert\" onclick=\"convertToInteractive('df-cfc8064a-dfc9-4d46-9327-1fb7c47acd11')\"\n",
              "              title=\"Convert this dataframe to an interactive table.\"\n",
              "              style=\"display:none;\">\n",
              "\n",
              "  <svg xmlns=\"http://www.w3.org/2000/svg\" height=\"24px\"viewBox=\"0 0 24 24\"\n",
              "       width=\"24px\">\n",
              "    <path d=\"M0 0h24v24H0V0z\" fill=\"none\"/>\n",
              "    <path d=\"M18.56 5.44l.94 2.06.94-2.06 2.06-.94-2.06-.94-.94-2.06-.94 2.06-2.06.94zm-11 1L8.5 8.5l.94-2.06 2.06-.94-2.06-.94L8.5 2.5l-.94 2.06-2.06.94zm10 10l.94 2.06.94-2.06 2.06-.94-2.06-.94-.94-2.06-.94 2.06-2.06.94z\"/><path d=\"M17.41 7.96l-1.37-1.37c-.4-.4-.92-.59-1.43-.59-.52 0-1.04.2-1.43.59L10.3 9.45l-7.72 7.72c-.78.78-.78 2.05 0 2.83L4 21.41c.39.39.9.59 1.41.59.51 0 1.02-.2 1.41-.59l7.78-7.78 2.81-2.81c.8-.78.8-2.07 0-2.86zM5.41 20L4 18.59l7.72-7.72 1.47 1.35L5.41 20z\"/>\n",
              "  </svg>\n",
              "      </button>\n",
              "\n",
              "\n",
              "\n",
              "    <div id=\"df-0d613a53-901e-45d1-8431-9023e5499292\">\n",
              "      <button class=\"colab-df-quickchart\" onclick=\"quickchart('df-0d613a53-901e-45d1-8431-9023e5499292')\"\n",
              "              title=\"Suggest charts.\"\n",
              "              style=\"display:none;\">\n",
              "\n",
              "<svg xmlns=\"http://www.w3.org/2000/svg\" height=\"24px\"viewBox=\"0 0 24 24\"\n",
              "     width=\"24px\">\n",
              "    <g>\n",
              "        <path d=\"M19 3H5c-1.1 0-2 .9-2 2v14c0 1.1.9 2 2 2h14c1.1 0 2-.9 2-2V5c0-1.1-.9-2-2-2zM9 17H7v-7h2v7zm4 0h-2V7h2v10zm4 0h-2v-4h2v4z\"/>\n",
              "    </g>\n",
              "</svg>\n",
              "      </button>\n",
              "    </div>\n",
              "\n",
              "<style>\n",
              "  .colab-df-quickchart {\n",
              "    background-color: #E8F0FE;\n",
              "    border: none;\n",
              "    border-radius: 50%;\n",
              "    cursor: pointer;\n",
              "    display: none;\n",
              "    fill: #1967D2;\n",
              "    height: 32px;\n",
              "    padding: 0 0 0 0;\n",
              "    width: 32px;\n",
              "  }\n",
              "\n",
              "  .colab-df-quickchart:hover {\n",
              "    background-color: #E2EBFA;\n",
              "    box-shadow: 0px 1px 2px rgba(60, 64, 67, 0.3), 0px 1px 3px 1px rgba(60, 64, 67, 0.15);\n",
              "    fill: #174EA6;\n",
              "  }\n",
              "\n",
              "  [theme=dark] .colab-df-quickchart {\n",
              "    background-color: #3B4455;\n",
              "    fill: #D2E3FC;\n",
              "  }\n",
              "\n",
              "  [theme=dark] .colab-df-quickchart:hover {\n",
              "    background-color: #434B5C;\n",
              "    box-shadow: 0px 1px 3px 1px rgba(0, 0, 0, 0.15);\n",
              "    filter: drop-shadow(0px 1px 2px rgba(0, 0, 0, 0.3));\n",
              "    fill: #FFFFFF;\n",
              "  }\n",
              "</style>\n",
              "\n",
              "    <script>\n",
              "      async function quickchart(key) {\n",
              "        const containerElement = document.querySelector('#' + key);\n",
              "        const charts = await google.colab.kernel.invokeFunction(\n",
              "            'suggestCharts', [key], {});\n",
              "      }\n",
              "    </script>\n",
              "\n",
              "      <script>\n",
              "\n",
              "function displayQuickchartButton(domScope) {\n",
              "  let quickchartButtonEl =\n",
              "    domScope.querySelector('#df-0d613a53-901e-45d1-8431-9023e5499292 button.colab-df-quickchart');\n",
              "  quickchartButtonEl.style.display =\n",
              "    google.colab.kernel.accessAllowed ? 'block' : 'none';\n",
              "}\n",
              "\n",
              "        displayQuickchartButton(document);\n",
              "      </script>\n",
              "      <style>\n",
              "    .colab-df-container {\n",
              "      display:flex;\n",
              "      flex-wrap:wrap;\n",
              "      gap: 12px;\n",
              "    }\n",
              "\n",
              "    .colab-df-convert {\n",
              "      background-color: #E8F0FE;\n",
              "      border: none;\n",
              "      border-radius: 50%;\n",
              "      cursor: pointer;\n",
              "      display: none;\n",
              "      fill: #1967D2;\n",
              "      height: 32px;\n",
              "      padding: 0 0 0 0;\n",
              "      width: 32px;\n",
              "    }\n",
              "\n",
              "    .colab-df-convert:hover {\n",
              "      background-color: #E2EBFA;\n",
              "      box-shadow: 0px 1px 2px rgba(60, 64, 67, 0.3), 0px 1px 3px 1px rgba(60, 64, 67, 0.15);\n",
              "      fill: #174EA6;\n",
              "    }\n",
              "\n",
              "    [theme=dark] .colab-df-convert {\n",
              "      background-color: #3B4455;\n",
              "      fill: #D2E3FC;\n",
              "    }\n",
              "\n",
              "    [theme=dark] .colab-df-convert:hover {\n",
              "      background-color: #434B5C;\n",
              "      box-shadow: 0px 1px 3px 1px rgba(0, 0, 0, 0.15);\n",
              "      filter: drop-shadow(0px 1px 2px rgba(0, 0, 0, 0.3));\n",
              "      fill: #FFFFFF;\n",
              "    }\n",
              "  </style>\n",
              "\n",
              "      <script>\n",
              "        const buttonEl =\n",
              "          document.querySelector('#df-cfc8064a-dfc9-4d46-9327-1fb7c47acd11 button.colab-df-convert');\n",
              "        buttonEl.style.display =\n",
              "          google.colab.kernel.accessAllowed ? 'block' : 'none';\n",
              "\n",
              "        async function convertToInteractive(key) {\n",
              "          const element = document.querySelector('#df-cfc8064a-dfc9-4d46-9327-1fb7c47acd11');\n",
              "          const dataTable =\n",
              "            await google.colab.kernel.invokeFunction('convertToInteractive',\n",
              "                                                     [key], {});\n",
              "          if (!dataTable) return;\n",
              "\n",
              "          const docLinkHtml = 'Like what you see? Visit the ' +\n",
              "            '<a target=\"_blank\" href=https://colab.research.google.com/notebooks/data_table.ipynb>data table notebook</a>'\n",
              "            + ' to learn more about interactive tables.';\n",
              "          element.innerHTML = '';\n",
              "          dataTable['output_type'] = 'display_data';\n",
              "          await google.colab.output.renderOutput(dataTable, element);\n",
              "          const docLink = document.createElement('div');\n",
              "          docLink.innerHTML = docLinkHtml;\n",
              "          element.appendChild(docLink);\n",
              "        }\n",
              "      </script>\n",
              "    </div>\n",
              "  </div>\n"
            ]
          },
          "metadata": {},
          "execution_count": 15
        }
      ]
    },
    {
      "cell_type": "code",
      "source": [
        "medium_df['Topic Count'] = medium_df['Topics'].apply(len)\n",
        "medium_df.head()"
      ],
      "metadata": {
        "colab": {
          "base_uri": "https://localhost:8080/",
          "height": 206
        },
        "id": "Uc_vQelpXjgp",
        "outputId": "a0aa91a0-61e2-489e-b33d-3b139395848b"
      },
      "execution_count": null,
      "outputs": [
        {
          "output_type": "execute_result",
          "data": {
            "text/plain": [
              "                                          Paragraphs      Topics  \\\n",
              "0  GPT-3 came out in early 2020, and shocked the ...        [AI]   \n",
              "1  For the first time, we had an AI system that c...        [AI]   \n",
              "2  And it did all thing thanks simply to its scal...  [AI, data]   \n",
              "3  The idea that simply by scaling a simple trans...        [AI]   \n",
              "4  Since then, dozens of other companies have put...        [AI]   \n",
              "\n",
              "   Character Count  Topic Count Sentiment  \n",
              "0               52            1  negative  \n",
              "1              251            1   neutral  \n",
              "2              318            2   neutral  \n",
              "3              456            1  positive  \n",
              "4              510            1     mixed  "
            ],
            "text/html": [
              "\n",
              "\n",
              "  <div id=\"df-a6c2c80c-56ee-47aa-b9ac-7fdc28f35a85\">\n",
              "    <div class=\"colab-df-container\">\n",
              "      <div>\n",
              "<style scoped>\n",
              "    .dataframe tbody tr th:only-of-type {\n",
              "        vertical-align: middle;\n",
              "    }\n",
              "\n",
              "    .dataframe tbody tr th {\n",
              "        vertical-align: top;\n",
              "    }\n",
              "\n",
              "    .dataframe thead th {\n",
              "        text-align: right;\n",
              "    }\n",
              "</style>\n",
              "<table border=\"1\" class=\"dataframe\">\n",
              "  <thead>\n",
              "    <tr style=\"text-align: right;\">\n",
              "      <th></th>\n",
              "      <th>Paragraphs</th>\n",
              "      <th>Topics</th>\n",
              "      <th>Character Count</th>\n",
              "      <th>Topic Count</th>\n",
              "      <th>Sentiment</th>\n",
              "    </tr>\n",
              "  </thead>\n",
              "  <tbody>\n",
              "    <tr>\n",
              "      <th>0</th>\n",
              "      <td>GPT-3 came out in early 2020, and shocked the ...</td>\n",
              "      <td>[AI]</td>\n",
              "      <td>52</td>\n",
              "      <td>1</td>\n",
              "      <td>negative</td>\n",
              "    </tr>\n",
              "    <tr>\n",
              "      <th>1</th>\n",
              "      <td>For the first time, we had an AI system that c...</td>\n",
              "      <td>[AI]</td>\n",
              "      <td>251</td>\n",
              "      <td>1</td>\n",
              "      <td>neutral</td>\n",
              "    </tr>\n",
              "    <tr>\n",
              "      <th>2</th>\n",
              "      <td>And it did all thing thanks simply to its scal...</td>\n",
              "      <td>[AI, data]</td>\n",
              "      <td>318</td>\n",
              "      <td>2</td>\n",
              "      <td>neutral</td>\n",
              "    </tr>\n",
              "    <tr>\n",
              "      <th>3</th>\n",
              "      <td>The idea that simply by scaling a simple trans...</td>\n",
              "      <td>[AI]</td>\n",
              "      <td>456</td>\n",
              "      <td>1</td>\n",
              "      <td>positive</td>\n",
              "    </tr>\n",
              "    <tr>\n",
              "      <th>4</th>\n",
              "      <td>Since then, dozens of other companies have put...</td>\n",
              "      <td>[AI]</td>\n",
              "      <td>510</td>\n",
              "      <td>1</td>\n",
              "      <td>mixed</td>\n",
              "    </tr>\n",
              "  </tbody>\n",
              "</table>\n",
              "</div>\n",
              "      <button class=\"colab-df-convert\" onclick=\"convertToInteractive('df-a6c2c80c-56ee-47aa-b9ac-7fdc28f35a85')\"\n",
              "              title=\"Convert this dataframe to an interactive table.\"\n",
              "              style=\"display:none;\">\n",
              "\n",
              "  <svg xmlns=\"http://www.w3.org/2000/svg\" height=\"24px\"viewBox=\"0 0 24 24\"\n",
              "       width=\"24px\">\n",
              "    <path d=\"M0 0h24v24H0V0z\" fill=\"none\"/>\n",
              "    <path d=\"M18.56 5.44l.94 2.06.94-2.06 2.06-.94-2.06-.94-.94-2.06-.94 2.06-2.06.94zm-11 1L8.5 8.5l.94-2.06 2.06-.94-2.06-.94L8.5 2.5l-.94 2.06-2.06.94zm10 10l.94 2.06.94-2.06 2.06-.94-2.06-.94-.94-2.06-.94 2.06-2.06.94z\"/><path d=\"M17.41 7.96l-1.37-1.37c-.4-.4-.92-.59-1.43-.59-.52 0-1.04.2-1.43.59L10.3 9.45l-7.72 7.72c-.78.78-.78 2.05 0 2.83L4 21.41c.39.39.9.59 1.41.59.51 0 1.02-.2 1.41-.59l7.78-7.78 2.81-2.81c.8-.78.8-2.07 0-2.86zM5.41 20L4 18.59l7.72-7.72 1.47 1.35L5.41 20z\"/>\n",
              "  </svg>\n",
              "      </button>\n",
              "\n",
              "\n",
              "\n",
              "    <div id=\"df-d4f6f806-86a5-4de2-8592-f1781f20d7f2\">\n",
              "      <button class=\"colab-df-quickchart\" onclick=\"quickchart('df-d4f6f806-86a5-4de2-8592-f1781f20d7f2')\"\n",
              "              title=\"Suggest charts.\"\n",
              "              style=\"display:none;\">\n",
              "\n",
              "<svg xmlns=\"http://www.w3.org/2000/svg\" height=\"24px\"viewBox=\"0 0 24 24\"\n",
              "     width=\"24px\">\n",
              "    <g>\n",
              "        <path d=\"M19 3H5c-1.1 0-2 .9-2 2v14c0 1.1.9 2 2 2h14c1.1 0 2-.9 2-2V5c0-1.1-.9-2-2-2zM9 17H7v-7h2v7zm4 0h-2V7h2v10zm4 0h-2v-4h2v4z\"/>\n",
              "    </g>\n",
              "</svg>\n",
              "      </button>\n",
              "    </div>\n",
              "\n",
              "<style>\n",
              "  .colab-df-quickchart {\n",
              "    background-color: #E8F0FE;\n",
              "    border: none;\n",
              "    border-radius: 50%;\n",
              "    cursor: pointer;\n",
              "    display: none;\n",
              "    fill: #1967D2;\n",
              "    height: 32px;\n",
              "    padding: 0 0 0 0;\n",
              "    width: 32px;\n",
              "  }\n",
              "\n",
              "  .colab-df-quickchart:hover {\n",
              "    background-color: #E2EBFA;\n",
              "    box-shadow: 0px 1px 2px rgba(60, 64, 67, 0.3), 0px 1px 3px 1px rgba(60, 64, 67, 0.15);\n",
              "    fill: #174EA6;\n",
              "  }\n",
              "\n",
              "  [theme=dark] .colab-df-quickchart {\n",
              "    background-color: #3B4455;\n",
              "    fill: #D2E3FC;\n",
              "  }\n",
              "\n",
              "  [theme=dark] .colab-df-quickchart:hover {\n",
              "    background-color: #434B5C;\n",
              "    box-shadow: 0px 1px 3px 1px rgba(0, 0, 0, 0.15);\n",
              "    filter: drop-shadow(0px 1px 2px rgba(0, 0, 0, 0.3));\n",
              "    fill: #FFFFFF;\n",
              "  }\n",
              "</style>\n",
              "\n",
              "    <script>\n",
              "      async function quickchart(key) {\n",
              "        const containerElement = document.querySelector('#' + key);\n",
              "        const charts = await google.colab.kernel.invokeFunction(\n",
              "            'suggestCharts', [key], {});\n",
              "      }\n",
              "    </script>\n",
              "\n",
              "      <script>\n",
              "\n",
              "function displayQuickchartButton(domScope) {\n",
              "  let quickchartButtonEl =\n",
              "    domScope.querySelector('#df-d4f6f806-86a5-4de2-8592-f1781f20d7f2 button.colab-df-quickchart');\n",
              "  quickchartButtonEl.style.display =\n",
              "    google.colab.kernel.accessAllowed ? 'block' : 'none';\n",
              "}\n",
              "\n",
              "        displayQuickchartButton(document);\n",
              "      </script>\n",
              "      <style>\n",
              "    .colab-df-container {\n",
              "      display:flex;\n",
              "      flex-wrap:wrap;\n",
              "      gap: 12px;\n",
              "    }\n",
              "\n",
              "    .colab-df-convert {\n",
              "      background-color: #E8F0FE;\n",
              "      border: none;\n",
              "      border-radius: 50%;\n",
              "      cursor: pointer;\n",
              "      display: none;\n",
              "      fill: #1967D2;\n",
              "      height: 32px;\n",
              "      padding: 0 0 0 0;\n",
              "      width: 32px;\n",
              "    }\n",
              "\n",
              "    .colab-df-convert:hover {\n",
              "      background-color: #E2EBFA;\n",
              "      box-shadow: 0px 1px 2px rgba(60, 64, 67, 0.3), 0px 1px 3px 1px rgba(60, 64, 67, 0.15);\n",
              "      fill: #174EA6;\n",
              "    }\n",
              "\n",
              "    [theme=dark] .colab-df-convert {\n",
              "      background-color: #3B4455;\n",
              "      fill: #D2E3FC;\n",
              "    }\n",
              "\n",
              "    [theme=dark] .colab-df-convert:hover {\n",
              "      background-color: #434B5C;\n",
              "      box-shadow: 0px 1px 3px 1px rgba(0, 0, 0, 0.15);\n",
              "      filter: drop-shadow(0px 1px 2px rgba(0, 0, 0, 0.3));\n",
              "      fill: #FFFFFF;\n",
              "    }\n",
              "  </style>\n",
              "\n",
              "      <script>\n",
              "        const buttonEl =\n",
              "          document.querySelector('#df-a6c2c80c-56ee-47aa-b9ac-7fdc28f35a85 button.colab-df-convert');\n",
              "        buttonEl.style.display =\n",
              "          google.colab.kernel.accessAllowed ? 'block' : 'none';\n",
              "\n",
              "        async function convertToInteractive(key) {\n",
              "          const element = document.querySelector('#df-a6c2c80c-56ee-47aa-b9ac-7fdc28f35a85');\n",
              "          const dataTable =\n",
              "            await google.colab.kernel.invokeFunction('convertToInteractive',\n",
              "                                                     [key], {});\n",
              "          if (!dataTable) return;\n",
              "\n",
              "          const docLinkHtml = 'Like what you see? Visit the ' +\n",
              "            '<a target=\"_blank\" href=https://colab.research.google.com/notebooks/data_table.ipynb>data table notebook</a>'\n",
              "            + ' to learn more about interactive tables.';\n",
              "          element.innerHTML = '';\n",
              "          dataTable['output_type'] = 'display_data';\n",
              "          await google.colab.output.renderOutput(dataTable, element);\n",
              "          const docLink = document.createElement('div');\n",
              "          docLink.innerHTML = docLinkHtml;\n",
              "          element.appendChild(docLink);\n",
              "        }\n",
              "      </script>\n",
              "    </div>\n",
              "  </div>\n"
            ]
          },
          "metadata": {},
          "execution_count": 20
        }
      ]
    },
    {
      "cell_type": "code",
      "source": [
        "medium_df['Sentiment'] = medium_df['Paragraphs'].apply(sentiment_detection)"
      ],
      "metadata": {
        "id": "yIbLWwkxVP_5"
      },
      "execution_count": null,
      "outputs": []
    },
    {
      "cell_type": "code",
      "source": [
        "medium_df.head(10)"
      ],
      "metadata": {
        "colab": {
          "base_uri": "https://localhost:8080/",
          "height": 363
        },
        "id": "BaNes5EhZErA",
        "outputId": "9a19882b-4f34-4bf8-c43d-57e2176a4eb2"
      },
      "execution_count": null,
      "outputs": [
        {
          "output_type": "execute_result",
          "data": {
            "text/plain": [
              "                                          Paragraphs      Topics  \\\n",
              "0  GPT-3 came out in early 2020, and shocked the ...        [AI]   \n",
              "1  For the first time, we had an AI system that c...        [AI]   \n",
              "2  And it did all thing thanks simply to its scal...  [AI, data]   \n",
              "3  The idea that simply by scaling a simple trans...        [AI]   \n",
              "4  Since then, dozens of other companies have put...        [AI]   \n",
              "5  The one-fringe AI scaling strategy that OpenAI...  [AI, data]   \n",
              "6  And there’s no end in sight: as the dizzying p...  [AI, data]   \n",
              "7  Missing out on just one of these developments ...        [AI]   \n",
              "8  Keeping up with the current state of the art i...  [AI, data]   \n",
              "9  This immediately implies that one of the most ...        [AI]   \n",
              "\n",
              "   Character Count  Topic Count Sentiment  \n",
              "0               52            1  negative  \n",
              "1              251            1   neutral  \n",
              "2              318            2   neutral  \n",
              "3              456            1  positive  \n",
              "4              510            1     mixed  \n",
              "5              493            2  positive  \n",
              "6              541            2  positive  \n",
              "7              160            1  negative  \n",
              "8              289            2   neutral  \n",
              "9              614            1     mixed  "
            ],
            "text/html": [
              "\n",
              "\n",
              "  <div id=\"df-1d318b71-ad18-4bee-8ae1-b23320224b40\">\n",
              "    <div class=\"colab-df-container\">\n",
              "      <div>\n",
              "<style scoped>\n",
              "    .dataframe tbody tr th:only-of-type {\n",
              "        vertical-align: middle;\n",
              "    }\n",
              "\n",
              "    .dataframe tbody tr th {\n",
              "        vertical-align: top;\n",
              "    }\n",
              "\n",
              "    .dataframe thead th {\n",
              "        text-align: right;\n",
              "    }\n",
              "</style>\n",
              "<table border=\"1\" class=\"dataframe\">\n",
              "  <thead>\n",
              "    <tr style=\"text-align: right;\">\n",
              "      <th></th>\n",
              "      <th>Paragraphs</th>\n",
              "      <th>Topics</th>\n",
              "      <th>Character Count</th>\n",
              "      <th>Topic Count</th>\n",
              "      <th>Sentiment</th>\n",
              "    </tr>\n",
              "  </thead>\n",
              "  <tbody>\n",
              "    <tr>\n",
              "      <th>0</th>\n",
              "      <td>GPT-3 came out in early 2020, and shocked the ...</td>\n",
              "      <td>[AI]</td>\n",
              "      <td>52</td>\n",
              "      <td>1</td>\n",
              "      <td>negative</td>\n",
              "    </tr>\n",
              "    <tr>\n",
              "      <th>1</th>\n",
              "      <td>For the first time, we had an AI system that c...</td>\n",
              "      <td>[AI]</td>\n",
              "      <td>251</td>\n",
              "      <td>1</td>\n",
              "      <td>neutral</td>\n",
              "    </tr>\n",
              "    <tr>\n",
              "      <th>2</th>\n",
              "      <td>And it did all thing thanks simply to its scal...</td>\n",
              "      <td>[AI, data]</td>\n",
              "      <td>318</td>\n",
              "      <td>2</td>\n",
              "      <td>neutral</td>\n",
              "    </tr>\n",
              "    <tr>\n",
              "      <th>3</th>\n",
              "      <td>The idea that simply by scaling a simple trans...</td>\n",
              "      <td>[AI]</td>\n",
              "      <td>456</td>\n",
              "      <td>1</td>\n",
              "      <td>positive</td>\n",
              "    </tr>\n",
              "    <tr>\n",
              "      <th>4</th>\n",
              "      <td>Since then, dozens of other companies have put...</td>\n",
              "      <td>[AI]</td>\n",
              "      <td>510</td>\n",
              "      <td>1</td>\n",
              "      <td>mixed</td>\n",
              "    </tr>\n",
              "    <tr>\n",
              "      <th>5</th>\n",
              "      <td>The one-fringe AI scaling strategy that OpenAI...</td>\n",
              "      <td>[AI, data]</td>\n",
              "      <td>493</td>\n",
              "      <td>2</td>\n",
              "      <td>positive</td>\n",
              "    </tr>\n",
              "    <tr>\n",
              "      <th>6</th>\n",
              "      <td>And there’s no end in sight: as the dizzying p...</td>\n",
              "      <td>[AI, data]</td>\n",
              "      <td>541</td>\n",
              "      <td>2</td>\n",
              "      <td>positive</td>\n",
              "    </tr>\n",
              "    <tr>\n",
              "      <th>7</th>\n",
              "      <td>Missing out on just one of these developments ...</td>\n",
              "      <td>[AI]</td>\n",
              "      <td>160</td>\n",
              "      <td>1</td>\n",
              "      <td>negative</td>\n",
              "    </tr>\n",
              "    <tr>\n",
              "      <th>8</th>\n",
              "      <td>Keeping up with the current state of the art i...</td>\n",
              "      <td>[AI, data]</td>\n",
              "      <td>289</td>\n",
              "      <td>2</td>\n",
              "      <td>neutral</td>\n",
              "    </tr>\n",
              "    <tr>\n",
              "      <th>9</th>\n",
              "      <td>This immediately implies that one of the most ...</td>\n",
              "      <td>[AI]</td>\n",
              "      <td>614</td>\n",
              "      <td>1</td>\n",
              "      <td>mixed</td>\n",
              "    </tr>\n",
              "  </tbody>\n",
              "</table>\n",
              "</div>\n",
              "      <button class=\"colab-df-convert\" onclick=\"convertToInteractive('df-1d318b71-ad18-4bee-8ae1-b23320224b40')\"\n",
              "              title=\"Convert this dataframe to an interactive table.\"\n",
              "              style=\"display:none;\">\n",
              "\n",
              "  <svg xmlns=\"http://www.w3.org/2000/svg\" height=\"24px\"viewBox=\"0 0 24 24\"\n",
              "       width=\"24px\">\n",
              "    <path d=\"M0 0h24v24H0V0z\" fill=\"none\"/>\n",
              "    <path d=\"M18.56 5.44l.94 2.06.94-2.06 2.06-.94-2.06-.94-.94-2.06-.94 2.06-2.06.94zm-11 1L8.5 8.5l.94-2.06 2.06-.94-2.06-.94L8.5 2.5l-.94 2.06-2.06.94zm10 10l.94 2.06.94-2.06 2.06-.94-2.06-.94-.94-2.06-.94 2.06-2.06.94z\"/><path d=\"M17.41 7.96l-1.37-1.37c-.4-.4-.92-.59-1.43-.59-.52 0-1.04.2-1.43.59L10.3 9.45l-7.72 7.72c-.78.78-.78 2.05 0 2.83L4 21.41c.39.39.9.59 1.41.59.51 0 1.02-.2 1.41-.59l7.78-7.78 2.81-2.81c.8-.78.8-2.07 0-2.86zM5.41 20L4 18.59l7.72-7.72 1.47 1.35L5.41 20z\"/>\n",
              "  </svg>\n",
              "      </button>\n",
              "\n",
              "\n",
              "\n",
              "    <div id=\"df-89a378b1-04b8-4ee2-842f-9d9c187acb18\">\n",
              "      <button class=\"colab-df-quickchart\" onclick=\"quickchart('df-89a378b1-04b8-4ee2-842f-9d9c187acb18')\"\n",
              "              title=\"Suggest charts.\"\n",
              "              style=\"display:none;\">\n",
              "\n",
              "<svg xmlns=\"http://www.w3.org/2000/svg\" height=\"24px\"viewBox=\"0 0 24 24\"\n",
              "     width=\"24px\">\n",
              "    <g>\n",
              "        <path d=\"M19 3H5c-1.1 0-2 .9-2 2v14c0 1.1.9 2 2 2h14c1.1 0 2-.9 2-2V5c0-1.1-.9-2-2-2zM9 17H7v-7h2v7zm4 0h-2V7h2v10zm4 0h-2v-4h2v4z\"/>\n",
              "    </g>\n",
              "</svg>\n",
              "      </button>\n",
              "    </div>\n",
              "\n",
              "<style>\n",
              "  .colab-df-quickchart {\n",
              "    background-color: #E8F0FE;\n",
              "    border: none;\n",
              "    border-radius: 50%;\n",
              "    cursor: pointer;\n",
              "    display: none;\n",
              "    fill: #1967D2;\n",
              "    height: 32px;\n",
              "    padding: 0 0 0 0;\n",
              "    width: 32px;\n",
              "  }\n",
              "\n",
              "  .colab-df-quickchart:hover {\n",
              "    background-color: #E2EBFA;\n",
              "    box-shadow: 0px 1px 2px rgba(60, 64, 67, 0.3), 0px 1px 3px 1px rgba(60, 64, 67, 0.15);\n",
              "    fill: #174EA6;\n",
              "  }\n",
              "\n",
              "  [theme=dark] .colab-df-quickchart {\n",
              "    background-color: #3B4455;\n",
              "    fill: #D2E3FC;\n",
              "  }\n",
              "\n",
              "  [theme=dark] .colab-df-quickchart:hover {\n",
              "    background-color: #434B5C;\n",
              "    box-shadow: 0px 1px 3px 1px rgba(0, 0, 0, 0.15);\n",
              "    filter: drop-shadow(0px 1px 2px rgba(0, 0, 0, 0.3));\n",
              "    fill: #FFFFFF;\n",
              "  }\n",
              "</style>\n",
              "\n",
              "    <script>\n",
              "      async function quickchart(key) {\n",
              "        const containerElement = document.querySelector('#' + key);\n",
              "        const charts = await google.colab.kernel.invokeFunction(\n",
              "            'suggestCharts', [key], {});\n",
              "      }\n",
              "    </script>\n",
              "\n",
              "      <script>\n",
              "\n",
              "function displayQuickchartButton(domScope) {\n",
              "  let quickchartButtonEl =\n",
              "    domScope.querySelector('#df-89a378b1-04b8-4ee2-842f-9d9c187acb18 button.colab-df-quickchart');\n",
              "  quickchartButtonEl.style.display =\n",
              "    google.colab.kernel.accessAllowed ? 'block' : 'none';\n",
              "}\n",
              "\n",
              "        displayQuickchartButton(document);\n",
              "      </script>\n",
              "      <style>\n",
              "    .colab-df-container {\n",
              "      display:flex;\n",
              "      flex-wrap:wrap;\n",
              "      gap: 12px;\n",
              "    }\n",
              "\n",
              "    .colab-df-convert {\n",
              "      background-color: #E8F0FE;\n",
              "      border: none;\n",
              "      border-radius: 50%;\n",
              "      cursor: pointer;\n",
              "      display: none;\n",
              "      fill: #1967D2;\n",
              "      height: 32px;\n",
              "      padding: 0 0 0 0;\n",
              "      width: 32px;\n",
              "    }\n",
              "\n",
              "    .colab-df-convert:hover {\n",
              "      background-color: #E2EBFA;\n",
              "      box-shadow: 0px 1px 2px rgba(60, 64, 67, 0.3), 0px 1px 3px 1px rgba(60, 64, 67, 0.15);\n",
              "      fill: #174EA6;\n",
              "    }\n",
              "\n",
              "    [theme=dark] .colab-df-convert {\n",
              "      background-color: #3B4455;\n",
              "      fill: #D2E3FC;\n",
              "    }\n",
              "\n",
              "    [theme=dark] .colab-df-convert:hover {\n",
              "      background-color: #434B5C;\n",
              "      box-shadow: 0px 1px 3px 1px rgba(0, 0, 0, 0.15);\n",
              "      filter: drop-shadow(0px 1px 2px rgba(0, 0, 0, 0.3));\n",
              "      fill: #FFFFFF;\n",
              "    }\n",
              "  </style>\n",
              "\n",
              "      <script>\n",
              "        const buttonEl =\n",
              "          document.querySelector('#df-1d318b71-ad18-4bee-8ae1-b23320224b40 button.colab-df-convert');\n",
              "        buttonEl.style.display =\n",
              "          google.colab.kernel.accessAllowed ? 'block' : 'none';\n",
              "\n",
              "        async function convertToInteractive(key) {\n",
              "          const element = document.querySelector('#df-1d318b71-ad18-4bee-8ae1-b23320224b40');\n",
              "          const dataTable =\n",
              "            await google.colab.kernel.invokeFunction('convertToInteractive',\n",
              "                                                     [key], {});\n",
              "          if (!dataTable) return;\n",
              "\n",
              "          const docLinkHtml = 'Like what you see? Visit the ' +\n",
              "            '<a target=\"_blank\" href=https://colab.research.google.com/notebooks/data_table.ipynb>data table notebook</a>'\n",
              "            + ' to learn more about interactive tables.';\n",
              "          element.innerHTML = '';\n",
              "          dataTable['output_type'] = 'display_data';\n",
              "          await google.colab.output.renderOutput(dataTable, element);\n",
              "          const docLink = document.createElement('div');\n",
              "          docLink.innerHTML = docLinkHtml;\n",
              "          element.appendChild(docLink);\n",
              "        }\n",
              "      </script>\n",
              "    </div>\n",
              "  </div>\n"
            ]
          },
          "metadata": {},
          "execution_count": 18
        }
      ]
    },
    {
      "cell_type": "code",
      "source": [
        "category_amount = medium_df['Sentiment'].value_counts()\n",
        "print(category_amount)\n",
        "print(list(category_amount))\n",
        "print(list(category_amount.keys()))"
      ],
      "metadata": {
        "colab": {
          "base_uri": "https://localhost:8080/"
        },
        "id": "5BSjg-ibcCOA",
        "outputId": "b6d2fb19-fc6b-4df9-f52e-8aabe4c482e4"
      },
      "execution_count": null,
      "outputs": [
        {
          "output_type": "stream",
          "name": "stdout",
          "text": [
            "neutral     5\n",
            "positive    3\n",
            "negative    2\n",
            "mixed       2\n",
            "Name: Sentiment, dtype: int64\n",
            "[5, 3, 2, 2]\n",
            "['neutral', 'positive', 'negative', 'mixed']\n"
          ]
        }
      ]
    },
    {
      "cell_type": "code",
      "source": [
        "import matplotlib.pyplot as plt\n",
        "\n",
        "\n",
        "\n",
        "# Extract category names and corresponding amounts\n",
        "#categories = list(category_amount.keys())\n",
        "#amounts = list(category_amount.values())\n",
        "\n",
        "# Plotting the bar graph\n",
        "plt.bar(list(category_amount.keys()), list(category_amount))\n",
        "\n",
        "# Customize the plot\n",
        "plt.xlabel('Sentiment')\n",
        "plt.ylabel('Total Count')\n",
        "plt.title('Total count of sentiment')\n",
        "plt.xticks(rotation=45)\n",
        "\n",
        "# Show the plot\n",
        "plt.show()"
      ],
      "metadata": {
        "colab": {
          "base_uri": "https://localhost:8080/",
          "height": 511
        },
        "id": "57VqNITfZE0v",
        "outputId": "b637b42e-5853-420b-dc8f-23dc6fe216a7"
      },
      "execution_count": null,
      "outputs": [
        {
          "output_type": "display_data",
          "data": {
            "text/plain": [
              "<Figure size 640x480 with 1 Axes>"
            ],
            "image/png": "[encoded data removed]"
          },
          "metadata": {}
        }
      ]
    },
    {
      "cell_type": "code",
      "source": [],
      "metadata": {
        "id": "27stPNrWZE37"
      },
      "execution_count": null,
      "outputs": []
    },
    {
      "cell_type": "code",
      "source": [],
      "metadata": {
        "id": "tkYGuh-KZE-Z"
      },
      "execution_count": null,
      "outputs": []
    },
    {
      "cell_type": "code",
      "source": [],
      "metadata": {
        "id": "DbTPMujUZFMk"
      },
      "execution_count": null,
      "outputs": []
    },
    {
      "cell_type": "code",
      "source": [
        "reddit_url = 'https://www.reddit.com/r/dataanalysis/'\n",
        "hyperlinks = parse_elements(reddit_url, 'a')"
      ],
      "metadata": {
        "id": "xZwFRlro4UH9"
      },
      "execution_count": null,
      "outputs": []
    },
    {
      "cell_type": "code",
      "source": [
        "# Print the string versions of the hyperlinks\n",
        "links_list = []\n",
        "for hyperlink in hyperlinks:\n",
        "    if len(hyperlink.absolute_links) > 0:\n",
        "      if ((hyperlink.absolute_links).pop()).count('/r/dataanalysis/comments') > 0:\n",
        "        #print(\"count is greater\")\n",
        "        if (hyperlink.absolute_links).pop() not in links_list:\n",
        "          #print('not in list')\n",
        "          links_list.append(((hyperlink.absolute_links).pop()))\n",
        "          print((hyperlink.absolute_links).pop())\n",
        "\n",
        "\n",
        "def get_threads(webdata,name):\n",
        "  for hyperlink in webdata:\n",
        "    if len(hyperlink.absolute_links) > 0:\n",
        "      if ((hyperlink.absolute_links).pop()).count(f'/r/{name}/comments') > 0:\n",
        "        print((hyperlink.absolute_links).pop())\n",
        "      #let's add some code to add each hyperlink to a list!\n",
        "      #then we can add the list to a dictionary and make it a pandas dataframe\n"
      ],
      "metadata": {
        "id": "wJnYlrL04UKG",
        "colab": {
          "base_uri": "https://localhost:8080/"
        },
        "outputId": "c8fea524-190c-4cfd-ae4d-a98a0462c731"
      },
      "execution_count": null,
      "outputs": [
        {
          "output_type": "stream",
          "name": "stdout",
          "text": [
            "https://www.reddit.com/r/dataanalysis/comments/14b8n7l/reddit_is_killing_thirdparty_applications_and/\n",
            "https://www.reddit.com/r/dataanalysis/comments/14o43h1/megathread_how_to_get_into_data_analysis/\n",
            "https://www.reddit.com/r/dataanalysis/comments/14xnu7z/essential_statistical_concepts_for_data_analysis/\n",
            "https://www.reddit.com/r/dataanalysis/comments/14wr4sb/need_some_help_if_you_see_this_please_stop_by_and/\n",
            "https://www.reddit.com/r/dataanalysis/comments/14v0h0j/are_new_updates_to_chatgpt_concerning_for_data/\n",
            "https://www.reddit.com/r/dataanalysis/comments/14v4zdi/capsule_networks_explained/\n"
          ]
        }
      ]
    },
    {
      "cell_type": "code",
      "source": [
        "links_list"
      ],
      "metadata": {
        "colab": {
          "base_uri": "https://localhost:8080/"
        },
        "id": "dcfuSQobcDp4",
        "outputId": "efd5e560-9a0b-4dbb-a0a5-c08859b2fa8b"
      },
      "execution_count": null,
      "outputs": [
        {
          "output_type": "execute_result",
          "data": {
            "text/plain": [
              "['https://www.reddit.com/r/dataanalysis/comments/14b8n7l/reddit_is_killing_thirdparty_applications_and/',\n",
              " 'https://www.reddit.com/r/dataanalysis/comments/14o43h1/megathread_how_to_get_into_data_analysis/',\n",
              " 'https://www.reddit.com/r/dataanalysis/comments/14xnu7z/essential_statistical_concepts_for_data_analysis/',\n",
              " 'https://www.reddit.com/r/dataanalysis/comments/14wr4sb/need_some_help_if_you_see_this_please_stop_by_and/',\n",
              " 'https://www.reddit.com/r/dataanalysis/comments/14v0h0j/are_new_updates_to_chatgpt_concerning_for_data/',\n",
              " 'https://www.reddit.com/r/dataanalysis/comments/14v4zdi/capsule_networks_explained/']"
            ]
          },
          "metadata": {},
          "execution_count": 21
        }
      ]
    },
    {
      "cell_type": "code",
      "source": [
        "threads_dictionary = {}\n",
        "for link in links_list:\n",
        "  content = parse_elements(link, 'body')\n",
        "  threads_dictionary[link] = content"
      ],
      "metadata": {
        "id": "4bPTdcUMnOD7"
      },
      "execution_count": null,
      "outputs": []
    },
    {
      "cell_type": "code",
      "source": [
        "(threads_dictionary['https://www.reddit.com/r/dataanalysis/comments/14b8n7l/reddit_is_killing_thirdparty_applications_and/'][0].find('p')[0].text)"
      ],
      "metadata": {
        "colab": {
          "base_uri": "https://localhost:8080/",
          "height": 72
        },
        "id": "_AcwpnX8oJ24",
        "outputId": "a239673b-dc5b-4b98-e665-1d2e696265b7"
      },
      "execution_count": null,
      "outputs": [
        {
          "output_type": "execute_result",
          "data": {
            "text/plain": [
              "'We have taken the subreddit dark in protest of the change in Reddit policies around third-party access to APIs. These changes would negatively affect Reddit as a community. For further information, please read: https://www.theverge.com/2023/6/8/23754780/reddit-api-updates-changes-news-announcements'"
            ],
            "application/vnd.google.colaboratory.intrinsic+json": {
              "type": "string"
            }
          },
          "metadata": {},
          "execution_count": 47
        }
      ]
    },
    {
      "cell_type": "code",
      "source": [],
      "metadata": {
        "id": "BBD6CAnrt_ih"
      },
      "execution_count": null,
      "outputs": []
    },
    {
      "cell_type": "code",
      "source": [
        "#we can build some code here to\n",
        "# Convert dictionary to DataFrame\n",
        "df = pd.DataFrame(some_dictionary)\n",
        "\n",
        "# Print the DataFrame\n",
        "print(df)"
      ],
      "metadata": {
        "id": "cY0LvCyS6Vc5"
      },
      "execution_count": null,
      "outputs": []
    },
    {
      "cell_type": "code",
      "source": [
        "#let's say we now want to iterate through each hyperlink for EACH thread and obtain the data from each thread and analyze it\n",
        "#We can look at all the paragraphs to see what people are talking about\n",
        "#perhaps we may want to see how often people are mentioning SPECIFIC topics\n",
        "#We could repurpose our topic detection to look for even more topics\n",
        "#it might make sense to get a topic COUNT rather than just a yes or no for a specific topic"
      ],
      "metadata": {
        "id": "DbxO3IB76Vfm"
      },
      "execution_count": null,
      "outputs": []
    },
    {
      "cell_type": "code",
      "source": [],
      "metadata": {
        "id": "1pem1Bnt6Vjh"
      },
      "execution_count": null,
      "outputs": []
    },
    {
      "cell_type": "code",
      "source": [],
      "metadata": {
        "id": "Xi-WyS5e6VmT"
      },
      "execution_count": null,
      "outputs": []
    },
    {
      "cell_type": "code",
      "source": [],
      "metadata": {
        "id": "5SqQRfbg6Voy"
      },
      "execution_count": null,
      "outputs": []
    },
    {
      "cell_type": "code",
      "source": [],
      "metadata": {
        "id": "a6hu2iLa6VrB"
      },
      "execution_count": null,
      "outputs": []
    },
    {
      "cell_type": "code",
      "source": [],
      "metadata": {
        "id": "9Nkyd5kx6VtX"
      },
      "execution_count": null,
      "outputs": []
    },
    {
      "cell_type": "code",
      "source": [],
      "metadata": {
        "id": "eR5p4RzI6Vvu"
      },
      "execution_count": null,
      "outputs": []
    },
    {
      "cell_type": "code",
      "source": [
        "#takes a paragraph as string and breaks it down into sentences\n",
        "def sentence_list(paragraph_string):\n",
        "    tokenizer = nltk.data.load('tokenizers/punkt/english.pickle')\n",
        "    list_of_sentences = tokenizer.tokenize(paragraph_string)\n",
        "    return list_of_sentences"
      ],
      "metadata": {
        "id": "d3IWtiiC4UMO"
      },
      "execution_count": null,
      "outputs": []
    },
    {
      "cell_type": "code",
      "source": [],
      "metadata": {
        "id": "i_5sQUWP6XkX"
      },
      "execution_count": null,
      "outputs": []
    },
    {
      "cell_type": "code",
      "source": [],
      "metadata": {
        "id": "YZBM0L7j6Xsk"
      },
      "execution_count": null,
      "outputs": []
    },
    {
      "cell_type": "code",
      "source": [],
      "metadata": {
        "id": "_grL3Ncs6XvR"
      },
      "execution_count": null,
      "outputs": []
    },
    {
      "cell_type": "code",
      "source": [],
      "metadata": {
        "id": "NbXhPmRp6XyI"
      },
      "execution_count": null,
      "outputs": []
    },
    {
      "cell_type": "code",
      "source": [],
      "metadata": {
        "id": "f3exmD3s6X0u"
      },
      "execution_count": null,
      "outputs": []
    },
    {
      "cell_type": "code",
      "source": [
        "pip install transformers"
      ],
      "metadata": {
        "id": "4uvY2yVb5bcP",
        "colab": {
          "base_uri": "https://localhost:8080/"
        },
        "outputId": "1e3a9deb-ce67-45b5-ab73-e0465109d8e5"
      },
      "execution_count": null,
      "outputs": [
        {
          "output_type": "stream",
          "name": "stdout",
          "text": [
            "Collecting transformers\n",
            "  Downloading transformers-4.30.2-py3-none-any.whl (7.2 MB)\n",
            "\u001b[2K     \u001b[90m━━━━━━━━━━━━━━━━━━━━━━━━━━━━━━━━━━━━━━━━\u001b[0m \u001b[32m7.2/7.2 MB\u001b[0m \u001b[31m51.3 MB/s\u001b[0m eta \u001b[36m0:00:00\u001b[0m\n",
            "\u001b[?25hRequirement already satisfied: filelock in /usr/local/lib/python3.10/dist-packages (from transformers) (3.12.2)\n",
            "Collecting huggingface-hub<1.0,>=0.14.1 (from transformers)\n",
            "  Downloading huggingface_hub-0.16.4-py3-none-any.whl (268 kB)\n",
            "\u001b[2K     \u001b[90m━━━━━━━━━━━━━━━━━━━━━━━━━━━━━━━━━━━━━━\u001b[0m \u001b[32m268.8/268.8 kB\u001b[0m \u001b[31m25.0 MB/s\u001b[0m eta \u001b[36m0:00:00\u001b[0m\n",
            "\u001b[?25hRequirement already satisfied: numpy>=1.17 in /usr/local/lib/python3.10/dist-packages (from transformers) (1.22.4)\n",
            "Requirement already satisfied: packaging>=20.0 in /usr/local/lib/python3.10/dist-packages (from transformers) (23.1)\n",
            "Requirement already satisfied: pyyaml>=5.1 in /usr/local/lib/python3.10/dist-packages (from transformers) (6.0)\n",
            "Requirement already satisfied: regex!=2019.12.17 in /usr/local/lib/python3.10/dist-packages (from transformers) (2022.10.31)\n",
            "Requirement already satisfied: requests in /usr/local/lib/python3.10/dist-packages (from transformers) (2.27.1)\n",
            "Collecting tokenizers!=0.11.3,<0.14,>=0.11.1 (from transformers)\n",
            "  Downloading tokenizers-0.13.3-cp310-cp310-manylinux_2_17_x86_64.manylinux2014_x86_64.whl (7.8 MB)\n",
            "\u001b[2K     \u001b[90m━━━━━━━━━━━━━━━━━━━━━━━━━━━━━━━━━━━━━━━━\u001b[0m \u001b[32m7.8/7.8 MB\u001b[0m \u001b[31m95.5 MB/s\u001b[0m eta \u001b[36m0:00:00\u001b[0m\n",
            "\u001b[?25hCollecting safetensors>=0.3.1 (from transformers)\n",
            "  Downloading safetensors-0.3.1-cp310-cp310-manylinux_2_17_x86_64.manylinux2014_x86_64.whl (1.3 MB)\n",
            "\u001b[2K     \u001b[90m━━━━━━━━━━━━━━━━━━━━━━━━━━━━━━━━━━━━━━━━\u001b[0m \u001b[32m1.3/1.3 MB\u001b[0m \u001b[31m68.1 MB/s\u001b[0m eta \u001b[36m0:00:00\u001b[0m\n",
            "\u001b[?25hRequirement already satisfied: tqdm>=4.27 in /usr/local/lib/python3.10/dist-packages (from transformers) (4.65.0)\n",
            "Requirement already satisfied: fsspec in /usr/local/lib/python3.10/dist-packages (from huggingface-hub<1.0,>=0.14.1->transformers) (2023.6.0)\n",
            "Requirement already satisfied: typing-extensions>=3.7.4.3 in /usr/local/lib/python3.10/dist-packages (from huggingface-hub<1.0,>=0.14.1->transformers) (4.7.1)\n",
            "Requirement already satisfied: urllib3<1.27,>=1.21.1 in /usr/local/lib/python3.10/dist-packages (from requests->transformers) (1.26.16)\n",
            "Requirement already satisfied: certifi>=2017.4.17 in /usr/local/lib/python3.10/dist-packages (from requests->transformers) (2023.5.7)\n",
            "Requirement already satisfied: charset-normalizer~=2.0.0 in /usr/local/lib/python3.10/dist-packages (from requests->transformers) (2.0.12)\n",
            "Requirement already satisfied: idna<4,>=2.5 in /usr/local/lib/python3.10/dist-packages (from requests->transformers) (3.4)\n",
            "Installing collected packages: tokenizers, safetensors, huggingface-hub, transformers\n",
            "Successfully installed huggingface-hub-0.16.4 safetensors-0.3.1 tokenizers-0.13.3 transformers-4.30.2\n"
          ]
        }
      ]
    },
    {
      "cell_type": "code",
      "source": [
        "# Use a pipeline as a high-level helper\n",
        "from transformers import pipeline\n",
        "\n",
        "pipe = pipeline(\"text-classification\", model=\"jonaskoenig/topic_classification_04\")"
      ],
      "metadata": {
        "colab": {
          "base_uri": "https://localhost:8080/"
        },
        "id": "gILRM7Rv4UOW",
        "outputId": "9b21da2c-2cf8-4e1a-eb2c-2c3d3997c345"
      },
      "execution_count": null,
      "outputs": [
        {
          "output_type": "stream",
          "name": "stderr",
          "text": [
            "Some layers from the model checkpoint at jonaskoenig/topic_classification_04 were not used when initializing TFBertForSequenceClassification: ['dropout_19']\n",
            "- This IS expected if you are initializing TFBertForSequenceClassification from the checkpoint of a model trained on another task or with another architecture (e.g. initializing a BertForSequenceClassification model from a BertForPreTraining model).\n",
            "- This IS NOT expected if you are initializing TFBertForSequenceClassification from the checkpoint of a model that you expect to be exactly identical (initializing a BertForSequenceClassification model from a BertForSequenceClassification model).\n",
            "All the layers of TFBertForSequenceClassification were initialized from the model checkpoint at jonaskoenig/topic_classification_04.\n",
            "If your task is similar to the task the model of the checkpoint was trained on, you can already use TFBertForSequenceClassification for predictions without further training.\n"
          ]
        }
      ]
    },
    {
      "cell_type": "code",
      "source": [
        "# Load model directly\n",
        "from transformers import AutoTokenizer, AutoModelForSequenceClassification\n",
        "\n",
        "tokenizer = AutoTokenizer.from_pretrained(\"jonaskoenig/topic_classification_04\")\n",
        "model = AutoModelForSequenceClassification.from_pretrained(\"jonaskoenig/topic_classification_04\", from_tf=True)\n"
      ],
      "metadata": {
        "colab": {
          "base_uri": "https://localhost:8080/"
        },
        "id": "N9U0EbUH4UQq",
        "outputId": "c8badaf0-5764-4027-b244-cc7326aaf452"
      },
      "execution_count": null,
      "outputs": [
        {
          "output_type": "stream",
          "name": "stderr",
          "text": [
            "All TF 2.0 model weights were used when initializing BertForSequenceClassification.\n",
            "\n",
            "All the weights of BertForSequenceClassification were initialized from the TF 2.0 model.\n",
            "If your task is similar to the task the model of the checkpoint was trained on, you can already use BertForSequenceClassification for predictions without further training.\n"
          ]
        }
      ]
    },
    {
      "cell_type": "code",
      "source": [
        "text = \"This is about finance\"\n",
        "inputs = tokenizer.encode_plus(text, padding=\"longest\", truncation=True, return_tensors=\"pt\")\n"
      ],
      "metadata": {
        "id": "PLgE8-iyTxgx"
      },
      "execution_count": null,
      "outputs": []
    },
    {
      "cell_type": "code",
      "source": [
        "outputs = model(**inputs)\n",
        "logits = outputs.logits\n"
      ],
      "metadata": {
        "id": "SRNKCBHaTxnX"
      },
      "execution_count": null,
      "outputs": []
    },
    {
      "cell_type": "code",
      "source": [
        "logits"
      ],
      "metadata": {
        "colab": {
          "base_uri": "https://localhost:8080/"
        },
        "id": "fclndOkmTxqV",
        "outputId": "eb4a031a-c1e3-4408-b6dd-be181ffb9e7a"
      },
      "execution_count": null,
      "outputs": [
        {
          "output_type": "execute_result",
          "data": {
            "text/plain": [
              "tensor([[-1.5593,  0.2835, -1.5148,  3.3633, -0.4707, -1.9771,  4.4456, -2.2627,\n",
              "         -2.6042, -0.2672]], grad_fn=<AddmmBackward0>)"
            ]
          },
          "metadata": {},
          "execution_count": 62
        }
      ]
    },
    {
      "cell_type": "code",
      "source": [
        "pip install tensorflow==2.12.\n"
      ],
      "metadata": {
        "id": "q1Twp64f5NAd"
      },
      "execution_count": null,
      "outputs": []
    },
    {
      "cell_type": "code",
      "source": [
        "text = \"This is an example sentence.\"\n",
        "inputs = tokenizer.encode_plus(text, padding=\"longest\", truncation=True, return_tensors=\"pt\")\n"
      ],
      "metadata": {
        "id": "yZJRa_f55NDP"
      },
      "execution_count": null,
      "outputs": []
    },
    {
      "cell_type": "code",
      "source": [
        "outputs = model(**inputs)\n",
        "logits = outputs.logits\n"
      ],
      "metadata": {
        "id": "ywkjzou85NFk"
      },
      "execution_count": null,
      "outputs": []
    },
    {
      "cell_type": "code",
      "source": [],
      "metadata": {
        "id": "hh-T3gNb5NHy"
      },
      "execution_count": null,
      "outputs": []
    },
    {
      "cell_type": "code",
      "source": [],
      "metadata": {
        "id": "SCmGRRXh5NKJ"
      },
      "execution_count": null,
      "outputs": []
    },
    {
      "cell_type": "code",
      "source": [],
      "metadata": {
        "id": "Zw9lMJ2r5NOd"
      },
      "execution_count": null,
      "outputs": []
    },
    {
      "cell_type": "code",
      "source": [],
      "metadata": {
        "id": "lKnJZeMr5NQ-"
      },
      "execution_count": null,
      "outputs": []
    },
    {
      "cell_type": "code",
      "source": [],
      "metadata": {
        "id": "4Mud2s_15NTE"
      },
      "execution_count": null,
      "outputs": []
    },
    {
      "cell_type": "code",
      "source": [],
      "metadata": {
        "id": "Q513Qhjf5NVZ"
      },
      "execution_count": null,
      "outputs": []
    },
    {
      "cell_type": "code",
      "source": [],
      "metadata": {
        "id": "F9qKetPI5NY7"
      },
      "execution_count": null,
      "outputs": []
    },
    {
      "cell_type": "code",
      "source": [],
      "metadata": {
        "id": "iGyS4Xf15Ndl"
      },
      "execution_count": null,
      "outputs": []
    }
  ]
}